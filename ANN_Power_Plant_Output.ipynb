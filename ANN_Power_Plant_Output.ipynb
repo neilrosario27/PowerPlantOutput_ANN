{
  "nbformat": 4,
  "nbformat_minor": 0,
  "metadata": {
    "colab": {
      "provenance": [],
      "authorship_tag": "ABX9TyNUnGuXrEuSbuyV46O9quGB",
      "include_colab_link": true
    },
    "kernelspec": {
      "name": "python3",
      "display_name": "Python 3"
    },
    "language_info": {
      "name": "python"
    }
  },
  "cells": [
    {
      "cell_type": "markdown",
      "metadata": {
        "id": "view-in-github",
        "colab_type": "text"
      },
      "source": [
        "<a href=\"https://colab.research.google.com/github/neilrosario27/PowerPlantOutput_ANN/blob/main/ANN_Power_Plant_Output.ipynb\" target=\"_parent\"><img src=\"https://colab.research.google.com/assets/colab-badge.svg\" alt=\"Open In Colab\"/></a>"
      ]
    },
    {
      "cell_type": "markdown",
      "source": [
        "DATA PREPROCESSING"
      ],
      "metadata": {
        "id": "1fX8_j4gdOGO"
      }
    },
    {
      "cell_type": "code",
      "execution_count": 1,
      "metadata": {
        "id": "ljCn8zt1ZyDu"
      },
      "outputs": [],
      "source": [
        "import pandas as pd\n",
        "import numpy as np\n",
        "import tensorflow as tf"
      ]
    },
    {
      "cell_type": "code",
      "source": [
        "dataset = pd.read_excel('Folds5x2_pp.xlsx')"
      ],
      "metadata": {
        "id": "vVtKIDoWbH2b"
      },
      "execution_count": 3,
      "outputs": []
    },
    {
      "cell_type": "code",
      "source": [
        "X = dataset.iloc[:,:-1].values\n",
        "y = dataset.iloc[:, -1].values"
      ],
      "metadata": {
        "id": "5Yl18g6wbPCH"
      },
      "execution_count": 4,
      "outputs": []
    },
    {
      "cell_type": "code",
      "source": [
        "print(X)"
      ],
      "metadata": {
        "colab": {
          "base_uri": "https://localhost:8080/"
        },
        "id": "BduSgqY2bjn8",
        "outputId": "e62f91c4-f4b8-46cd-871c-1f56c41c3629"
      },
      "execution_count": 5,
      "outputs": [
        {
          "output_type": "stream",
          "name": "stdout",
          "text": [
            "[[  14.96   41.76 1024.07   73.17]\n",
            " [  25.18   62.96 1020.04   59.08]\n",
            " [   5.11   39.4  1012.16   92.14]\n",
            " ...\n",
            " [  31.32   74.33 1012.92   36.48]\n",
            " [  24.48   69.45 1013.86   62.39]\n",
            " [  21.6    62.52 1017.23   67.87]]\n"
          ]
        }
      ]
    },
    {
      "cell_type": "code",
      "source": [
        "print(y)"
      ],
      "metadata": {
        "colab": {
          "base_uri": "https://localhost:8080/"
        },
        "id": "_qZ8NwKGbkmN",
        "outputId": "09fa7eff-7564-4c2b-cc45-b72d95322bd7"
      },
      "execution_count": 6,
      "outputs": [
        {
          "output_type": "stream",
          "name": "stdout",
          "text": [
            "[463.26 444.37 488.56 ... 429.57 435.74 453.28]\n"
          ]
        }
      ]
    },
    {
      "cell_type": "code",
      "source": [
        "from sklearn.model_selection import train_test_split\n",
        "X_train, X_test, y_train, y_test = train_test_split(X, y, test_size = 0.2, random_state = 1)"
      ],
      "metadata": {
        "id": "6jDoYG5Ibleu"
      },
      "execution_count": 7,
      "outputs": []
    },
    {
      "cell_type": "markdown",
      "source": [
        "ANN"
      ],
      "metadata": {
        "id": "GGyyRNeVdUIU"
      }
    },
    {
      "cell_type": "code",
      "source": [
        "ann = tf.keras.models.Sequential()"
      ],
      "metadata": {
        "id": "fRLWNMZ2b033"
      },
      "execution_count": 8,
      "outputs": []
    },
    {
      "cell_type": "code",
      "source": [
        "ann.add(tf.keras.layers.Dense(units = 6, activation = 'relu'))"
      ],
      "metadata": {
        "id": "lntT3Nx2cBVO"
      },
      "execution_count": 11,
      "outputs": []
    },
    {
      "cell_type": "code",
      "source": [
        "ann.add(tf.keras.layers.Dense(units = 6, activation = 'relu'))"
      ],
      "metadata": {
        "id": "mNl1RP6ncJZJ"
      },
      "execution_count": 12,
      "outputs": []
    },
    {
      "cell_type": "code",
      "source": [
        "ann.add(tf.keras.layers.Dense(units = 1))"
      ],
      "metadata": {
        "id": "-eUhOJwucTob"
      },
      "execution_count": 16,
      "outputs": []
    },
    {
      "cell_type": "code",
      "source": [
        "ann.compile(optimizer = 'adam', loss = 'mean_squared_error')"
      ],
      "metadata": {
        "id": "jmPw1PRucXTS"
      },
      "execution_count": 17,
      "outputs": []
    },
    {
      "cell_type": "markdown",
      "source": [
        "ANN TRAINING"
      ],
      "metadata": {
        "id": "7AyBUt8hdYA1"
      }
    },
    {
      "cell_type": "code",
      "source": [
        "ann.fit(X_train, y_train, batch_size = 32, epochs = 100)"
      ],
      "metadata": {
        "colab": {
          "base_uri": "https://localhost:8080/"
        },
        "id": "jnKtu-j6cpmF",
        "outputId": "e31f6d25-00f6-4aab-d3a4-0cb3a9a830a0"
      },
      "execution_count": 18,
      "outputs": [
        {
          "output_type": "stream",
          "name": "stdout",
          "text": [
            "Epoch 1/100\n",
            "240/240 [==============================] - 4s 2ms/step - loss: 128055.9375\n",
            "Epoch 2/100\n",
            "240/240 [==============================] - 0s 2ms/step - loss: 399.9769\n",
            "Epoch 3/100\n",
            "240/240 [==============================] - 0s 2ms/step - loss: 336.8182\n",
            "Epoch 4/100\n",
            "240/240 [==============================] - 0s 2ms/step - loss: 329.4165\n",
            "Epoch 5/100\n",
            "240/240 [==============================] - 0s 2ms/step - loss: 321.0477\n",
            "Epoch 6/100\n",
            "240/240 [==============================] - 0s 2ms/step - loss: 310.5015\n",
            "Epoch 7/100\n",
            "240/240 [==============================] - 0s 2ms/step - loss: 299.0833\n",
            "Epoch 8/100\n",
            "240/240 [==============================] - 0s 2ms/step - loss: 286.9475\n",
            "Epoch 9/100\n",
            "240/240 [==============================] - 0s 2ms/step - loss: 272.9201\n",
            "Epoch 10/100\n",
            "240/240 [==============================] - 0s 2ms/step - loss: 258.9946\n",
            "Epoch 11/100\n",
            "240/240 [==============================] - 0s 2ms/step - loss: 244.1297\n",
            "Epoch 12/100\n",
            "240/240 [==============================] - 0s 2ms/step - loss: 228.1220\n",
            "Epoch 13/100\n",
            "240/240 [==============================] - 0s 2ms/step - loss: 212.5960\n",
            "Epoch 14/100\n",
            "240/240 [==============================] - 0s 2ms/step - loss: 196.3962\n",
            "Epoch 15/100\n",
            "240/240 [==============================] - 0s 2ms/step - loss: 179.9675\n",
            "Epoch 16/100\n",
            "240/240 [==============================] - 0s 2ms/step - loss: 164.1646\n",
            "Epoch 17/100\n",
            "240/240 [==============================] - 0s 2ms/step - loss: 148.6505\n",
            "Epoch 18/100\n",
            "240/240 [==============================] - 0s 2ms/step - loss: 133.3736\n",
            "Epoch 19/100\n",
            "240/240 [==============================] - 0s 2ms/step - loss: 118.7215\n",
            "Epoch 20/100\n",
            "240/240 [==============================] - 0s 2ms/step - loss: 104.7873\n",
            "Epoch 21/100\n",
            "240/240 [==============================] - 0s 2ms/step - loss: 91.7618\n",
            "Epoch 22/100\n",
            "240/240 [==============================] - 0s 2ms/step - loss: 80.4087\n",
            "Epoch 23/100\n",
            "240/240 [==============================] - 0s 2ms/step - loss: 69.0645\n",
            "Epoch 24/100\n",
            "240/240 [==============================] - 0s 2ms/step - loss: 59.8120\n",
            "Epoch 25/100\n",
            "240/240 [==============================] - 0s 2ms/step - loss: 51.7275\n",
            "Epoch 26/100\n",
            "240/240 [==============================] - 1s 2ms/step - loss: 45.2871\n",
            "Epoch 27/100\n",
            "240/240 [==============================] - 1s 2ms/step - loss: 39.2860\n",
            "Epoch 28/100\n",
            "240/240 [==============================] - 1s 5ms/step - loss: 35.6357\n",
            "Epoch 29/100\n",
            "240/240 [==============================] - 1s 5ms/step - loss: 32.1531\n",
            "Epoch 30/100\n",
            "240/240 [==============================] - 1s 3ms/step - loss: 30.1464\n",
            "Epoch 31/100\n",
            "240/240 [==============================] - 0s 2ms/step - loss: 28.7448\n",
            "Epoch 32/100\n",
            "240/240 [==============================] - 0s 2ms/step - loss: 28.2739\n",
            "Epoch 33/100\n",
            "240/240 [==============================] - 0s 2ms/step - loss: 27.4868\n",
            "Epoch 34/100\n",
            "240/240 [==============================] - 0s 2ms/step - loss: 27.5167\n",
            "Epoch 35/100\n",
            "240/240 [==============================] - 0s 2ms/step - loss: 27.4709\n",
            "Epoch 36/100\n",
            "240/240 [==============================] - 0s 2ms/step - loss: 27.1893\n",
            "Epoch 37/100\n",
            "240/240 [==============================] - 0s 2ms/step - loss: 28.1797\n",
            "Epoch 38/100\n",
            "240/240 [==============================] - 0s 2ms/step - loss: 27.6888\n",
            "Epoch 39/100\n",
            "240/240 [==============================] - 0s 2ms/step - loss: 27.4149\n",
            "Epoch 40/100\n",
            "240/240 [==============================] - 0s 2ms/step - loss: 27.1614\n",
            "Epoch 41/100\n",
            "240/240 [==============================] - 0s 2ms/step - loss: 27.0767\n",
            "Epoch 42/100\n",
            "240/240 [==============================] - 0s 2ms/step - loss: 27.0467\n",
            "Epoch 43/100\n",
            "240/240 [==============================] - 0s 2ms/step - loss: 27.5895\n",
            "Epoch 44/100\n",
            "240/240 [==============================] - 0s 2ms/step - loss: 27.2582\n",
            "Epoch 45/100\n",
            "240/240 [==============================] - 0s 2ms/step - loss: 26.8113\n",
            "Epoch 46/100\n",
            "240/240 [==============================] - 0s 2ms/step - loss: 26.8572\n",
            "Epoch 47/100\n",
            "240/240 [==============================] - 0s 2ms/step - loss: 27.4772\n",
            "Epoch 48/100\n",
            "240/240 [==============================] - 0s 2ms/step - loss: 26.9713\n",
            "Epoch 49/100\n",
            "240/240 [==============================] - 0s 2ms/step - loss: 26.7596\n",
            "Epoch 50/100\n",
            "240/240 [==============================] - 0s 2ms/step - loss: 26.9867\n",
            "Epoch 51/100\n",
            "240/240 [==============================] - 0s 2ms/step - loss: 27.4127\n",
            "Epoch 52/100\n",
            "240/240 [==============================] - 1s 2ms/step - loss: 27.2848\n",
            "Epoch 53/100\n",
            "240/240 [==============================] - 1s 2ms/step - loss: 27.2157\n",
            "Epoch 54/100\n",
            "240/240 [==============================] - 1s 3ms/step - loss: 27.0215\n",
            "Epoch 55/100\n",
            "240/240 [==============================] - 1s 2ms/step - loss: 26.9200\n",
            "Epoch 56/100\n",
            "240/240 [==============================] - 1s 2ms/step - loss: 27.1296\n",
            "Epoch 57/100\n",
            "240/240 [==============================] - 0s 2ms/step - loss: 27.1210\n",
            "Epoch 58/100\n",
            "240/240 [==============================] - 0s 2ms/step - loss: 27.3389\n",
            "Epoch 59/100\n",
            "240/240 [==============================] - 0s 2ms/step - loss: 26.9230\n",
            "Epoch 60/100\n",
            "240/240 [==============================] - 0s 2ms/step - loss: 26.9665\n",
            "Epoch 61/100\n",
            "240/240 [==============================] - 0s 2ms/step - loss: 28.8142\n",
            "Epoch 62/100\n",
            "240/240 [==============================] - 0s 2ms/step - loss: 26.8713\n",
            "Epoch 63/100\n",
            "240/240 [==============================] - 0s 2ms/step - loss: 26.5869\n",
            "Epoch 64/100\n",
            "240/240 [==============================] - 0s 2ms/step - loss: 26.9962\n",
            "Epoch 65/100\n",
            "240/240 [==============================] - 0s 2ms/step - loss: 27.0932\n",
            "Epoch 66/100\n",
            "240/240 [==============================] - 0s 2ms/step - loss: 27.2896\n",
            "Epoch 67/100\n",
            "240/240 [==============================] - 0s 2ms/step - loss: 27.0736\n",
            "Epoch 68/100\n",
            "240/240 [==============================] - 0s 2ms/step - loss: 27.1729\n",
            "Epoch 69/100\n",
            "240/240 [==============================] - 0s 2ms/step - loss: 26.6505\n",
            "Epoch 70/100\n",
            "240/240 [==============================] - 0s 2ms/step - loss: 26.6491\n",
            "Epoch 71/100\n",
            "240/240 [==============================] - 0s 2ms/step - loss: 27.2504\n",
            "Epoch 72/100\n",
            "240/240 [==============================] - 0s 2ms/step - loss: 27.0254\n",
            "Epoch 73/100\n",
            "240/240 [==============================] - 0s 2ms/step - loss: 27.3278\n",
            "Epoch 74/100\n",
            "240/240 [==============================] - 0s 2ms/step - loss: 26.9413\n",
            "Epoch 75/100\n",
            "240/240 [==============================] - 0s 2ms/step - loss: 27.2315\n",
            "Epoch 76/100\n",
            "240/240 [==============================] - 0s 2ms/step - loss: 26.8367\n",
            "Epoch 77/100\n",
            "240/240 [==============================] - 0s 2ms/step - loss: 26.8507\n",
            "Epoch 78/100\n",
            "240/240 [==============================] - 0s 2ms/step - loss: 26.6699\n",
            "Epoch 79/100\n",
            "240/240 [==============================] - 0s 2ms/step - loss: 27.1845\n",
            "Epoch 80/100\n",
            "240/240 [==============================] - 0s 2ms/step - loss: 26.9548\n",
            "Epoch 81/100\n",
            "240/240 [==============================] - 0s 2ms/step - loss: 26.8516\n",
            "Epoch 82/100\n",
            "240/240 [==============================] - 1s 2ms/step - loss: 26.8886\n",
            "Epoch 83/100\n",
            "240/240 [==============================] - 1s 2ms/step - loss: 26.6085\n",
            "Epoch 84/100\n",
            "240/240 [==============================] - 1s 2ms/step - loss: 27.6558\n",
            "Epoch 85/100\n",
            "240/240 [==============================] - 1s 2ms/step - loss: 27.0693\n",
            "Epoch 86/100\n",
            "240/240 [==============================] - 1s 2ms/step - loss: 26.8881\n",
            "Epoch 87/100\n",
            "240/240 [==============================] - 0s 2ms/step - loss: 26.9779\n",
            "Epoch 88/100\n",
            "240/240 [==============================] - 0s 2ms/step - loss: 27.0811\n",
            "Epoch 89/100\n",
            "240/240 [==============================] - 0s 2ms/step - loss: 26.7184\n",
            "Epoch 90/100\n",
            "240/240 [==============================] - 0s 2ms/step - loss: 26.9469\n",
            "Epoch 91/100\n",
            "240/240 [==============================] - 0s 2ms/step - loss: 27.4756\n",
            "Epoch 92/100\n",
            "240/240 [==============================] - 0s 2ms/step - loss: 26.9189\n",
            "Epoch 93/100\n",
            "240/240 [==============================] - 0s 2ms/step - loss: 26.7303\n",
            "Epoch 94/100\n",
            "240/240 [==============================] - 0s 2ms/step - loss: 27.0122\n",
            "Epoch 95/100\n",
            "240/240 [==============================] - 0s 2ms/step - loss: 27.4742\n",
            "Epoch 96/100\n",
            "240/240 [==============================] - 0s 2ms/step - loss: 26.9622\n",
            "Epoch 97/100\n",
            "240/240 [==============================] - 0s 2ms/step - loss: 26.8982\n",
            "Epoch 98/100\n",
            "240/240 [==============================] - 0s 2ms/step - loss: 26.5826\n",
            "Epoch 99/100\n",
            "240/240 [==============================] - 0s 2ms/step - loss: 27.0297\n",
            "Epoch 100/100\n",
            "240/240 [==============================] - 0s 2ms/step - loss: 27.2266\n"
          ]
        },
        {
          "output_type": "execute_result",
          "data": {
            "text/plain": [
              "<keras.src.callbacks.History at 0x7c691703a4d0>"
            ]
          },
          "metadata": {},
          "execution_count": 18
        }
      ]
    },
    {
      "cell_type": "code",
      "source": [
        "y_pred = ann.predict(X_test)\n",
        "np.set_printoptions(precision=2)\n",
        "print(np.concatenate((y_pred.reshape(len(y_pred),1), y_test.reshape(len(y_test),1)),1))"
      ],
      "metadata": {
        "colab": {
          "base_uri": "https://localhost:8080/"
        },
        "id": "cThr4m9dcsS3",
        "outputId": "cd8ff02d-a297-4cef-ed82-1553c4b7dc5d"
      },
      "execution_count": 19,
      "outputs": [
        {
          "output_type": "stream",
          "name": "stdout",
          "text": [
            "60/60 [==============================] - 0s 1ms/step\n",
            "[[452.63 458.96]\n",
            " [461.61 463.29]\n",
            " [436.99 435.27]\n",
            " ...\n",
            " [476.52 476.22]\n",
            " [422.82 440.29]\n",
            " [463.91 467.92]]\n"
          ]
        }
      ]
    },
    {
      "cell_type": "code",
      "source": [],
      "metadata": {
        "id": "G9-5xrYlc5PK"
      },
      "execution_count": null,
      "outputs": []
    }
  ]
}